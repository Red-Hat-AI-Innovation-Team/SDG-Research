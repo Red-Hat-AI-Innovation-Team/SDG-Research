{
 "cells": [
  {
   "cell_type": "code",
   "execution_count": null,
   "metadata": {
    "vscode": {
     "languageId": "plaintext"
    }
   },
   "outputs": [],
   "source": [
    "from instructlab.sdg.flow import  Flow\n",
    "from instructlab.sdg.logger_config import setup_logger\n",
    "from instructlab.sdg.pipeline import Pipeline\n",
    "from instructlab.sdg.sdg import SDG\n",
    "from openai import OpenAI\n",
    "\n",
    "openai_api_key = \"EMPTY\"\n",
    "openai_api_base = \"http://localhost:8000/v1\"\n",
    "\n",
    "client = OpenAI(\n",
    "        api_key=openai_api_key,\n",
    "        base_url=openai_api_base,\n",
    "    )\n",
    "flow_cfg = Flow(client).get_flow_from_file(\"/home/lab/abhi/SDG-Research-Upstream/src/instructlab/sdg/flows/generation/knowledge/knowledge_filtering_phi4.yaml\")\n",
    "sdg = SDG(\n",
    "        [Pipeline(flow_cfg)],\n",
    "        num_workers=1,\n",
    "        batch_size=1,\n",
    "        save_freq=1000,\n",
    "    )\n",
    "    "
   ]
  },
  {
   "cell_type": "code",
   "execution_count": null,
   "metadata": {
    "vscode": {
     "languageId": "plaintext"
    }
   },
   "outputs": [],
   "source": [
    "enti_ds = load_dataset('json', data_dir=\"/new_data/knowledge_rh/quality/entigraph_knowledge1.0_phi4_first_24_n_5/gen/\", split=\"train\")\n",
    "enti_ds = enti_ds.filter(lambda x: x['score'] == '2' and x['judgment'] == 'YES')\n",
    "enti_ds.to_json(\"/new_data/knowledge_rh/quality/entigraph_knowledge1.0_phi4_first_26/gen.jsonl\", orient=\"records\", lines=True)"
   ]
  },
  {
   "cell_type": "code",
   "execution_count": null,
   "metadata": {
    "vscode": {
     "languageId": "plaintext"
    }
   },
   "outputs": [],
   "source": [
    "generated_data = sdg.generate(enti_ds.select(range(20)), checkpoint_dir=\"tmp\")"
   ]
  }
 ],
 "metadata": {
  "language_info": {
   "name": "python"
  }
 },
 "nbformat": 4,
 "nbformat_minor": 2
}
