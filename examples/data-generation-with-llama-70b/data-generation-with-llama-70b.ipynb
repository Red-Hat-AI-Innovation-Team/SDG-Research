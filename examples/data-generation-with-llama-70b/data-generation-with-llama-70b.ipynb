{
 "cells": [
  {
   "cell_type": "code",
   "execution_count": 1,
   "metadata": {},
   "outputs": [],
   "source": [
    "%load_ext autoreload\n",
    "%autoreload 2"
   ]
  },
  {
   "cell_type": "markdown",
   "metadata": {},
   "source": [
    "### Install SDG\n",
    "```bash\n",
    "git clone https://github.com/Red-Hat-AI-Innovation-Team/SDG-Research.git && cd SDG-Research\n",
    "pip install -e .\n",
    "pip install rich datasets\n",
    "```"
   ]
  },
  {
   "cell_type": "code",
   "execution_count": null,
   "metadata": {},
   "outputs": [],
   "source": [
    "from datasets import load_dataset, Dataset\n",
    "from openai import OpenAI\n",
    "\n",
    "from instructlab.sdg.flow import Flow\n",
    "from instructlab.sdg.pipeline import Pipeline\n",
    "from instructlab.sdg.sdg import SDG\n",
    "from instructlab.registry import PromptRegistry"
   ]
  },
  {
   "cell_type": "markdown",
   "metadata": {},
   "source": [
    "### Host and Connect to llama3.3 teacher model\n",
    "- Host your teacher model using vllm\n",
    "\n",
    "    ```bash\n",
    "    CUDA_VISIBLE_DEVICES=0,1,2,3,4,5,6,7 python -m vllm.entrypoints.openai.api_server \\\n",
    "        --model meta-llama/Llama-3.3-70B-Instruct \\\n",
    "        --dtype float16 \\\n",
    "        --tensor-parallel-size 8 \n",
    "    ```\n",
    "\n",
    "- Use OpenAI API to connect to the model"
   ]
  },
  {
   "cell_type": "code",
   "execution_count": null,
   "metadata": {},
   "outputs": [],
   "source": [
    "endpoint = f\"http://localhost:8000/v1\"\n",
    "openai_api_key = \"EMPTY\"\n",
    "openai_api_base = endpoint\n",
    "\n",
    "client = OpenAI(\n",
    "    api_key=openai_api_key,\n",
    "    base_url=openai_api_base,\n",
    ")\n",
    "teacher_model = client.models.list().data[0].id\n",
    "print(teacher_model)"
   ]
  },
  {
   "cell_type": "markdown",
   "metadata": {},
   "source": [
    "### Register llama3.3 model prompt in prompt registry"
   ]
  },
  {
   "cell_type": "code",
   "execution_count": null,
   "metadata": {},
   "outputs": [
    {
     "name": "stderr",
     "output_type": "stream",
     "text": [
      "None of PyTorch, TensorFlow >= 2.0, or Flax have been found. Models won't be available and only tokenizers, configuration and file/data utilities can be used.\n"
     ]
    }
   ],
   "source": [
    "# How to get the chat template for prompt registry\n",
    "# Once you get that add new prompt template in src/instructlab/sdg/prompts.py\n",
    "# Then add the model name in src/instructlab/sdg/flows/generation/knowledge/synth_knowledge1.5_llama3.3.yaml\n",
    "from transformers import AutoTokenizer\n",
    "tokenizer = AutoTokenizer.from_pretrained(\"meta-llama/Llama-3.3-70B-Instruct\")\n",
    "@PromptRegistry.register(\"meta-llama/Llama-3.3-70B-Instruct\")\n",
    "def llama_3_3_70b_chat_template():\n",
    "    return tokenizer.chat_template"
   ]
  },
  {
   "cell_type": "code",
   "execution_count": 4,
   "metadata": {},
   "outputs": [],
   "source": [
    "flow_cfg = Flow(client).get_flow_from_file(\"synth_knowledge1.5_llama3.3.yaml\")\n",
    "sdg = SDG(\n",
    "    [Pipeline(flow_cfg)],\n",
    "    num_workers=1,\n",
    "    batch_size=1,\n",
    "    save_freq=1000,\n",
    ")"
   ]
  },
  {
   "cell_type": "code",
   "execution_count": 27,
   "metadata": {},
   "outputs": [],
   "source": [
    "seed_data_path = \"Your seed data path\"\n",
    "ds = load_dataset('json', data_files=seed_data_path, split='train')\n",
    "ds = ds.select(range(1))"
   ]
  },
  {
   "cell_type": "code",
   "execution_count": null,
   "metadata": {},
   "outputs": [],
   "source": [
    "# Checkpoint directory is used to save the intermediate datasets\n",
    "generated_data = sdg.generate(ds, checkpoint_dir=\"Tmp\")"
   ]
  },
  {
   "cell_type": "markdown",
   "metadata": {},
   "source": [
    "### Host and connect to Mixtral model\n",
    "\n",
    "```bash\n",
    "CUDA_VISIBLE_DEVICES=0,1,2,3,4,5,6,7 python -m vllm.entrypoints.openai.api_server \\\n",
    "    --model meta-llama/Llama-3.3-70B-Instruct \\\n",
    "    --dtype float16 \\\n",
    "    --tensor-parallel-size 8 \n",
    "```"
   ]
  },
  {
   "cell_type": "code",
   "execution_count": null,
   "metadata": {},
   "outputs": [],
   "source": [
    "# Vllm server is running on 10.7.0.15\n",
    "mistral_client = OpenAI(\n",
    "    api_key=\"EMPTY\",\n",
    "    base_url=f\"http://10.7.0.15:8000/v1\",\n",
    ")\n",
    "mistral_client_teacher_model = mistral_client.models.list().data[0].id\n",
    "print(mistral_client_teacher_model)"
   ]
  },
  {
   "cell_type": "code",
   "execution_count": 21,
   "metadata": {},
   "outputs": [],
   "source": [
    "# Create flow with mistral config\n",
    "flow_cfg_mistral = Flow(mistral_client).get_flow_from_file(\"../../src/instructlab/sdg/flows/generation/knowledge/synth_knowledge1.5.yaml\")\n",
    "sdg_mistral = SDG(\n",
    "    [Pipeline(flow_cfg_mistral)],\n",
    "    num_workers=1,\n",
    "    batch_size=1,\n",
    "    save_freq=1000,\n",
    ")"
   ]
  },
  {
   "cell_type": "code",
   "execution_count": null,
   "metadata": {},
   "outputs": [],
   "source": [
    "generated_data_mistral = sdg_mistral.generate(ds, checkpoint_dir=\"Tmp\")"
   ]
  },
  {
   "cell_type": "markdown",
   "metadata": {},
   "source": [
    "### Compare the generated data from both models"
   ]
  },
  {
   "cell_type": "code",
   "execution_count": null,
   "metadata": {},
   "outputs": [],
   "source": [
    "# Print the first row of generated data and mistral generated data\n",
    "k = 5  # Number of examples to dump\n",
    "output_file = \"model_comparison.md\"\n",
    "with open(output_file, \"w\") as f:\n",
    "    f.write(f\"### Document \\n{generated_data[0]['document']}\")\n",
    "    for i in range(min(len(generated_data), len(generated_data_mistral))):\n",
    "        f.write(\"Example #{}\\n\".format(i+1))\n",
    "        f.write(\"### Result from llama3.3\\n\")\n",
    "        f.write(generated_data[i]['question'] + \"\\n\")\n",
    "        f.write(\"*******************************\\n\")\n",
    "        f.write(generated_data[i]['response'] + \"\\n\")\n",
    "        f.write(\"=================================\\n\")\n",
    "        f.write(\"### Result from mistral\\n\") \n",
    "        f.write(generated_data_mistral[i]['question'] + \"\\n\")\n",
    "        f.write(\"*******************************\\n\")\n",
    "        f.write(generated_data_mistral[i]['response'] + \"\\n\")\n",
    "        f.write(\"\\n\\n\")\n",
    "\n",
    "print(f\"Wrote {k} examples to {output_file}\")"
   ]
  },
  {
   "cell_type": "markdown",
   "metadata": {},
   "source": [
    "### For reference"
   ]
  },
  {
   "cell_type": "markdown",
   "metadata": {},
   "source": [
    "### How to run the final generation\n",
    "```bash\n",
    "python scripts/generate.py --ds_path /new_data/knowledge/BMO/documents/seed_data.jsonl \\\n",
    "    --bs 2 --num_workers 10 \\\n",
    "    --save_path <your_save_path> \\\n",
    "    --flow /home/lab/abhi/SDG-Research/src/instructlab/sdg/flows/generation/knowledge/synth_knowledge1.5.yaml \\\n",
    "    --checkpoint_dir <your_checkpoint_dir> \\\n",
    "    --endpoint <your_endpoint>\n",
    "```\n",
    "\n",
    "* For llama3.3 change the flow to `/home/lab/abhi/SDG-Research/src/instructlab/sdg/flows/generation/knowledge/synth_knowledge1.5_llama3.3.yaml`"
   ]
  }
 ],
 "metadata": {
  "kernelspec": {
   "display_name": "Python 3",
   "language": "python",
   "name": "python3"
  },
  "language_info": {
   "codemirror_mode": {
    "name": "ipython",
    "version": 3
   },
   "file_extension": ".py",
   "mimetype": "text/x-python",
   "name": "python",
   "nbconvert_exporter": "python",
   "pygments_lexer": "ipython3",
   "version": "3.10.16"
  }
 },
 "nbformat": 4,
 "nbformat_minor": 2
}
