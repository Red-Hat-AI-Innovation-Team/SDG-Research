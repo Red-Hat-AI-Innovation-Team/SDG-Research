{
 "cells": [
  {
   "cell_type": "code",
   "execution_count": 1,
   "metadata": {},
   "outputs": [],
   "source": [
    "import pandas as pd"
   ]
  },
  {
   "cell_type": "code",
   "execution_count": 2,
   "metadata": {},
   "outputs": [],
   "source": [
    "fp = \"/new_data/wenlong_rh/wz-entigraph-data/data/dataset/raw/entigraph_raw_dataset.jsonl\"\n",
    "df = pd.read_json(fp, lines=True)"
   ]
  },
  {
   "cell_type": "code",
   "execution_count": 3,
   "metadata": {},
   "outputs": [],
   "source": [
    "fp = \"/new_data/wenlong_rh/wz-entigraph-data/data/dataset/subset-selected-dataset/entigraph_raw_dataset/entigraph_raw_dataset_percent_10.0_subset.jsonl\"\n",
    "df_10 = pd.read_json(fp, lines=True)"
   ]
  },
  {
   "cell_type": "code",
   "execution_count": 13,
   "metadata": {},
   "outputs": [],
   "source": [
    "df_10_uid = df_10.merge(\n",
    "    df[['text', 'uid']].drop_duplicates(subset=['text']), \n",
    "    on='text', \n",
    "    how='left'\n",
    ")"
   ]
  },
  {
   "cell_type": "code",
   "execution_count": 15,
   "metadata": {},
   "outputs": [],
   "source": [
    "df_10_uid.to_json(\"/new_data/wenlong_rh/wz-entigraph-data/data/dataset/subset-selected-dataset/entigraph_raw_dataset/entigraph_raw_dataset_percent_10.0_subset_uid.jsonl\", orient=\"records\", lines=True)"
   ]
  },
  {
   "cell_type": "code",
   "execution_count": 17,
   "metadata": {},
   "outputs": [],
   "source": [
    "from datasets import load_dataset\n",
    "\n",
    "ds = load_dataset('json', data_files=\"/new_data/wenlong_rh/wz-entigraph-data/data/dataset/subset-selected-dataset/entigraph_raw_dataset/entigraph_raw_dataset_percent_10.0_subset_uid.jsonl\", split=\"train\")"
   ]
  },
  {
   "cell_type": "code",
   "execution_count": 19,
   "metadata": {},
   "outputs": [],
   "source": [
    "ds = ds.add_column(\"route\", ['_A_']*len(ds))\n",
    "ds = ds.rename_columns({\"text\": \"document\", \"uid\": \"document_outline\"})"
   ]
  },
  {
   "cell_type": "code",
   "execution_count": 26,
   "metadata": {},
   "outputs": [],
   "source": [
    "icl = {\n",
    "    'icl_document': '### Discussion of \"Fight Clubbed\" in relation to Mike Tyson\\nThe article\\'s examination of the Ultimate Fighting Championship (UFC) landscape brings notable clashes into perspective, including the hypothetical scenario where a juggernaut of traditional boxing like Mike Tyson steps into the UFC\\'s unforgiving realm. Contrasted against the diversity of disciplines displayed in UFC, Tyson, a titan in the boxing ring with knockout power that is the stuff of legend, receives a provocative dismissal. The assertion states unequivocally that Tyson would scarcely last half a minute in an ultimate fighting match. Such a statement not only elevates the standing of UFC fighters as the epitome of versatile combat proficiency, but it also underscores Tyson\\'s specialized yet limited skill set, which may not be as effective in the no-holds-barred environment that UFC champions.\\n\\n### Discussion of \"Fight Clubbed\" in relation to San Pedro, California\\nThe piece on the violent contrasts of UFC and Hollywood\\'s portrayal of fighting ends with an indication of the subculture\\'s persistence, showcasing outliers like the Kage Kombat competitions taking place in San Pedro, California. This reference to San Pedro, a microcosm within the larger narrative, captures the UFC\\'s retreat from mainstream visibility following heavy political and cultural resistance that relegated it to more discreet locales. San Pedro becomes an unlikely haven for the continued, albeit overshadowed, tradition of mixed martial arts, where the fundamental spirit of UFC is kept alive away from the grandiose stages and bright lights.\\n\\n### Discussion of Interaction between Mike Tyson and San Pedro, California in context of \"Fight Clubbed\"\\nIn \"Fight Clubbed,\" Mike Tyson and San Pedro, California emerge as vivid symbols within the broader narrative of UFC\\'s contentious journey. Tyson, an embodiment of elite, mainstream boxing prowess, is used to starkly contrast the brutal effectiveness and diverse skill requirements of UFC fighting. Meanwhile, San Pedro embodies the UFC\\'s shift from a publicly celebrated spectacle to a niche pursuit echoing in the underground echoes of fisticuff folklore. Tyson\\'s hypothetical inadequacy within the UFC octagon implicitly suggests a broader theme of adaptability and evolution in combat sports, a theme mirrored by San Pedro\\'s role as an inconspicuous sanctuary for a suppressed yet persistent fighting community. While the article does not describe any direct interaction between Tyson and San Pedro, the juxtaposition of these two entities speaks volumes about the changing face of American martial arts and the cultural tug-of-war between visibility and existence in the penumbra of public consciousness.', \n",
    "    \"icl_query_1\": \"How does 'Fight Clubbed' characterize Mike Tyson’s abilities in the context of the UFC?\",\n",
    "    \"icl_response_1\": \"The article uses Mike Tyson, a legendary boxer known for his knockout power, to highlight the limitations of traditional boxing in the context of UFC. It argues that Tyson would barely last thirty seconds in a UFC fight, emphasizing the superior versatility and combat proficiency required in mixed martial arts compared to specialized boxing skills.\",\n",
    "    \"icl_query_2\": \"What role does San Pedro, California play in the article’s discussion of the UFC’s cultural trajectory?\",\n",
    "    \"icl_response_2\": \"San Pedro, California is presented as a symbolic location that captures the UFC’s retreat from mainstream popularity due to political and cultural pushback. Through underground events like Kage Kombat, it illustrates how the spirit of mixed martial arts persists in obscure, localized venues even after losing broader public visibility.\",\n",
    "    \"icl_query_3\": \"How are Mike Tyson and San Pedro, California used together to reflect broader themes in 'Fight Clubbed'?\",\n",
    "    \"icl_response_3\": \"Tyson and San Pedro serve as contrasting symbols in the article: Tyson represents the traditional, mainstream combat sports world, while San Pedro embodies the UFC’s marginalized yet resilient underground scene. Their juxtaposition conveys themes of adaptability in combat sports and highlights the cultural struggle between visibility and survival in evolving martial arts landscapes.\",\n",
    "}"
   ]
  },
  {
   "cell_type": "code",
   "execution_count": 27,
   "metadata": {},
   "outputs": [
    {
     "name": "stderr",
     "output_type": "stream",
     "text": [
      "Map: 100%|██████████| 74226/74226 [00:03<00:00, 20360.82 examples/s]\n"
     ]
    }
   ],
   "source": [
    "ds = ds.map(lambda x: icl)"
   ]
  },
  {
   "cell_type": "code",
   "execution_count": 29,
   "metadata": {},
   "outputs": [
    {
     "name": "stderr",
     "output_type": "stream",
     "text": [
      "Creating json from Arrow format:   0%|          | 0/75 [00:00<?, ?ba/s]"
     ]
    },
    {
     "name": "stderr",
     "output_type": "stream",
     "text": [
      "Creating json from Arrow format: 100%|██████████| 75/75 [00:02<00:00, 25.56ba/s]\n"
     ]
    },
    {
     "data": {
      "text/plain": [
       "567036717"
      ]
     },
     "execution_count": 29,
     "metadata": {},
     "output_type": "execute_result"
    }
   ],
   "source": [
    "ds.to_json(\"/new_data/knowledge_rh/quality/base_datasets/entigraph_knowledge_icl_10_percent.jsonl\", orient=\"records\", lines=True)"
   ]
  },
  {
   "cell_type": "code",
   "execution_count": null,
   "metadata": {},
   "outputs": [],
   "source": []
  },
  {
   "cell_type": "markdown",
   "metadata": {},
   "source": [
    "```shell\n",
    "# Get dataset size and save into variable\n",
    "dataset_size=$(wc -l /new_data/knowledge_rh/quality/base_datasets/quality_seed_example_chunked.jsonl | awk '{print $1}')\n",
    "number_of_processes=8\n",
    "port=8000\n",
    "for i in {0..7}; do\n",
    "    dataset_start_index=$((i * dataset_size / number_of_processes))\n",
    "    dataset_end_index=$((dataset_start_index + dataset_size / number_of_processes))\n",
    "    python scripts/generate.py --ds_path  /new_data/knowledge_rh/quality/base_datasets/entigraph_knowledge_icl_10_percent.jsonl \\\n",
    "        --bs 2 --num_workers 30 \\\n",
    "        --save_path /new_data/knowledge_rh/quality/entigraph_knowledge1.0_phi4/gen.jsonl \\\n",
    "        --flow /home/lab/abhi/SDG-Research-Upstream/src/instructlab/sdg/flows/generation/knowledge/synth_knowledge_phi4.yaml \\\n",
    "        --endpoint http://localhost:$port/v1 \\\n",
    "        --checkpoint_dir /new_data/knowledge_rh/quality/entigraph_knowledge1.0_phi4/data_checkpoints \\\n",
    "        --save_freq 1000 \\\n",
    "        --dataset_start_index $dataset_start_index \\\n",
    "        --dataset_end_index $dataset_end_index > run_sdg_$i.log 2>&1 &\n",
    "    echo \"Starting process $i with dataset from $dataset_start_index to $dataset_end_index on port $port\"\n",
    "    port=$((port + 1))\n",
    "done\n",
    "```"
   ]
  }
 ],
 "metadata": {
  "language_info": {
   "name": "python"
  }
 },
 "nbformat": 4,
 "nbformat_minor": 2
}
