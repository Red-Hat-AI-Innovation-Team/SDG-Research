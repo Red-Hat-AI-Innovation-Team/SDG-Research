{
 "cells": [
  {
   "cell_type": "code",
   "execution_count": 2,
   "metadata": {},
   "outputs": [
    {
     "name": "stderr",
     "output_type": "stream",
     "text": [
      "/home/lab/.conda/envs/upstream_sdg/lib/python3.11/site-packages/tqdm/auto.py:21: TqdmWarning: IProgress not found. Please update jupyter and ipywidgets. See https://ipywidgets.readthedocs.io/en/stable/user_install.html\n",
      "  from .autonotebook import tqdm as notebook_tqdm\n"
     ]
    }
   ],
   "source": [
    "import pandas as pd\n",
    "from datasets import load_dataset\n",
    "import json"
   ]
  },
  {
   "cell_type": "code",
   "execution_count": 2,
   "metadata": {},
   "outputs": [],
   "source": [
    "fp = \"/new_data/wenlong_rh/wz-entigraph-data/data/dataset/raw/entigraph_raw_dataset.jsonl\"\n",
    "df = pd.read_json(fp, lines=True)\n",
    "fp = \"/new_data/wenlong_rh/wz-entigraph-data/data/dataset/subset-selected-dataset/entigraph_raw_dataset/entigraph_raw_dataset_percent_10.0_subset.jsonl\"\n",
    "df_10 = pd.read_json(fp, lines=True)\n",
    "df_10_uid = df_10.merge(\n",
    "    df[['text', 'uid']].drop_duplicates(subset=['text']), \n",
    "    on='text', \n",
    "    how='left'\n",
    ")\n",
    "with open(\"task_subset_24.json\", \"r\") as f:\n",
    "    selected_uid = json.load(f)"
   ]
  },
  {
   "cell_type": "code",
   "execution_count": 3,
   "metadata": {},
   "outputs": [
    {
     "data": {
      "text/plain": [
       "24"
      ]
     },
     "execution_count": 3,
     "metadata": {},
     "output_type": "execute_result"
    }
   ],
   "source": [
    "len(selected_uid)"
   ]
  },
  {
   "cell_type": "code",
   "execution_count": 4,
   "metadata": {},
   "outputs": [],
   "source": [
    "df_10_uid_24 = df_10_uid[df_10_uid['uid'].isin(selected_uid)]"
   ]
  },
  {
   "cell_type": "code",
   "execution_count": 5,
   "metadata": {},
   "outputs": [
    {
     "data": {
      "text/html": [
       "<div>\n",
       "<style scoped>\n",
       "    .dataframe tbody tr th:only-of-type {\n",
       "        vertical-align: middle;\n",
       "    }\n",
       "\n",
       "    .dataframe tbody tr th {\n",
       "        vertical-align: top;\n",
       "    }\n",
       "\n",
       "    .dataframe thead th {\n",
       "        text-align: right;\n",
       "    }\n",
       "</style>\n",
       "<table border=\"1\" class=\"dataframe\">\n",
       "  <thead>\n",
       "    <tr style=\"text-align: right;\">\n",
       "      <th></th>\n",
       "      <th>text</th>\n",
       "      <th>uid</th>\n",
       "    </tr>\n",
       "  </thead>\n",
       "  <tbody>\n",
       "    <tr>\n",
       "      <th>5</th>\n",
       "      <td>### Discussion of \"Bodyguard\" by H. L. Gold in...</td>\n",
       "      <td>Bodyguard by Gold, H. L. (Horace Leonard)</td>\n",
       "    </tr>\n",
       "    <tr>\n",
       "      <th>146</th>\n",
       "      <td>### Discussion of \"A Good Year for the Roses?\"...</td>\n",
       "      <td>A Good Year for the Roses? by David Edelstein</td>\n",
       "    </tr>\n",
       "    <tr>\n",
       "      <th>215</th>\n",
       "      <td>### Discussion of \"A Good Year for the Roses?\"...</td>\n",
       "      <td>A Good Year for the Roses? by David Edelstein</td>\n",
       "    </tr>\n",
       "    <tr>\n",
       "      <th>235</th>\n",
       "      <td>### Discussion of \"A Good Year for the Roses?\"...</td>\n",
       "      <td>A Good Year for the Roses? by David Edelstein</td>\n",
       "    </tr>\n",
       "    <tr>\n",
       "      <th>301</th>\n",
       "      <td>### Discussion of \"Fight Clubbed\" in relation ...</td>\n",
       "      <td>Fight Clubbed by David Plotz</td>\n",
       "    </tr>\n",
       "    <tr>\n",
       "      <th>...</th>\n",
       "      <td>...</td>\n",
       "      <td>...</td>\n",
       "    </tr>\n",
       "    <tr>\n",
       "      <th>74195</th>\n",
       "      <td>### Discussion of \"My Father's Estate\" in rela...</td>\n",
       "      <td>My Father's Estate by Ben Stein</td>\n",
       "    </tr>\n",
       "    <tr>\n",
       "      <th>74196</th>\n",
       "      <td>### Discussion of \"Fight Clubbed\" in relation ...</td>\n",
       "      <td>Fight Clubbed by David Plotz</td>\n",
       "    </tr>\n",
       "    <tr>\n",
       "      <th>74198</th>\n",
       "      <td>### Discussion of \"Fight Clubbed\" in relation ...</td>\n",
       "      <td>Fight Clubbed by David Plotz</td>\n",
       "    </tr>\n",
       "    <tr>\n",
       "      <th>74214</th>\n",
       "      <td>### Discussion of \"Beach Scene\" in relation to...</td>\n",
       "      <td>Beach Scene by King, Marshall</td>\n",
       "    </tr>\n",
       "    <tr>\n",
       "      <th>74220</th>\n",
       "      <td>### Discussion of \"Fight Clubbed\" in relation ...</td>\n",
       "      <td>Fight Clubbed by David Plotz</td>\n",
       "    </tr>\n",
       "  </tbody>\n",
       "</table>\n",
       "<p>6750 rows × 2 columns</p>\n",
       "</div>"
      ],
      "text/plain": [
       "                                                    text  \\\n",
       "5      ### Discussion of \"Bodyguard\" by H. L. Gold in...   \n",
       "146    ### Discussion of \"A Good Year for the Roses?\"...   \n",
       "215    ### Discussion of \"A Good Year for the Roses?\"...   \n",
       "235    ### Discussion of \"A Good Year for the Roses?\"...   \n",
       "301    ### Discussion of \"Fight Clubbed\" in relation ...   \n",
       "...                                                  ...   \n",
       "74195  ### Discussion of \"My Father's Estate\" in rela...   \n",
       "74196  ### Discussion of \"Fight Clubbed\" in relation ...   \n",
       "74198  ### Discussion of \"Fight Clubbed\" in relation ...   \n",
       "74214  ### Discussion of \"Beach Scene\" in relation to...   \n",
       "74220  ### Discussion of \"Fight Clubbed\" in relation ...   \n",
       "\n",
       "                                                 uid  \n",
       "5          Bodyguard by Gold, H. L. (Horace Leonard)  \n",
       "146    A Good Year for the Roses? by David Edelstein  \n",
       "215    A Good Year for the Roses? by David Edelstein  \n",
       "235    A Good Year for the Roses? by David Edelstein  \n",
       "301                     Fight Clubbed by David Plotz  \n",
       "...                                              ...  \n",
       "74195                My Father's Estate by Ben Stein  \n",
       "74196                   Fight Clubbed by David Plotz  \n",
       "74198                   Fight Clubbed by David Plotz  \n",
       "74214                  Beach Scene by King, Marshall  \n",
       "74220                   Fight Clubbed by David Plotz  \n",
       "\n",
       "[6750 rows x 2 columns]"
      ]
     },
     "execution_count": 5,
     "metadata": {},
     "output_type": "execute_result"
    }
   ],
   "source": [
    "df_10_uid_24"
   ]
  },
  {
   "cell_type": "code",
   "execution_count": 6,
   "metadata": {},
   "outputs": [],
   "source": [
    "df_10_uid.to_json(\"/new_data/wenlong_rh/wz-entigraph-data/data/dataset/subset-selected-dataset/entigraph_raw_dataset/entigraph_raw_dataset_percent_10.0_subset_uid.jsonl\", orient=\"records\", lines=True)\n",
    "df_10_uid_24.to_json(\"/new_data/wenlong_rh/wz-entigraph-data/data/dataset/subset-selected-dataset/entigraph_raw_dataset/entigraph_raw_dataset_percent_10.0_subset_uid_first_24.jsonl\", orient=\"records\", lines=True)"
   ]
  },
  {
   "cell_type": "code",
   "execution_count": 10,
   "metadata": {},
   "outputs": [
    {
     "name": "stderr",
     "output_type": "stream",
     "text": [
      "Map: 100%|██████████| 6750/6750 [00:00<00:00, 21246.27 examples/s]\n",
      "Creating json from Arrow format: 100%|██████████| 7/7 [00:00<00:00, 27.90ba/s]\n"
     ]
    },
    {
     "data": {
      "text/plain": [
       "51582941"
      ]
     },
     "execution_count": 10,
     "metadata": {},
     "output_type": "execute_result"
    }
   ],
   "source": [
    "ds = load_dataset('json', data_files=\"/new_data/wenlong_rh/wz-entigraph-data/data/dataset/subset-selected-dataset/entigraph_raw_dataset/entigraph_raw_dataset_percent_10.0_subset_uid_first_24.jsonl\", split=\"train\")\n",
    "ds = ds.add_column(\"route\", ['_A_']*len(ds))\n",
    "ds = ds.rename_columns({\"text\": \"document\", \"uid\": \"document_outline\"})\n",
    "icl = {\n",
    "    'icl_document': '### Discussion of \"Fight Clubbed\" in relation to Mike Tyson\\nThe article\\'s examination of the Ultimate Fighting Championship (UFC) landscape brings notable clashes into perspective, including the hypothetical scenario where a juggernaut of traditional boxing like Mike Tyson steps into the UFC\\'s unforgiving realm. Contrasted against the diversity of disciplines displayed in UFC, Tyson, a titan in the boxing ring with knockout power that is the stuff of legend, receives a provocative dismissal. The assertion states unequivocally that Tyson would scarcely last half a minute in an ultimate fighting match. Such a statement not only elevates the standing of UFC fighters as the epitome of versatile combat proficiency, but it also underscores Tyson\\'s specialized yet limited skill set, which may not be as effective in the no-holds-barred environment that UFC champions.\\n\\n### Discussion of \"Fight Clubbed\" in relation to San Pedro, California\\nThe piece on the violent contrasts of UFC and Hollywood\\'s portrayal of fighting ends with an indication of the subculture\\'s persistence, showcasing outliers like the Kage Kombat competitions taking place in San Pedro, California. This reference to San Pedro, a microcosm within the larger narrative, captures the UFC\\'s retreat from mainstream visibility following heavy political and cultural resistance that relegated it to more discreet locales. San Pedro becomes an unlikely haven for the continued, albeit overshadowed, tradition of mixed martial arts, where the fundamental spirit of UFC is kept alive away from the grandiose stages and bright lights.\\n\\n### Discussion of Interaction between Mike Tyson and San Pedro, California in context of \"Fight Clubbed\"\\nIn \"Fight Clubbed,\" Mike Tyson and San Pedro, California emerge as vivid symbols within the broader narrative of UFC\\'s contentious journey. Tyson, an embodiment of elite, mainstream boxing prowess, is used to starkly contrast the brutal effectiveness and diverse skill requirements of UFC fighting. Meanwhile, San Pedro embodies the UFC\\'s shift from a publicly celebrated spectacle to a niche pursuit echoing in the underground echoes of fisticuff folklore. Tyson\\'s hypothetical inadequacy within the UFC octagon implicitly suggests a broader theme of adaptability and evolution in combat sports, a theme mirrored by San Pedro\\'s role as an inconspicuous sanctuary for a suppressed yet persistent fighting community. While the article does not describe any direct interaction between Tyson and San Pedro, the juxtaposition of these two entities speaks volumes about the changing face of American martial arts and the cultural tug-of-war between visibility and existence in the penumbra of public consciousness.', \n",
    "    \"icl_query_1\": \"How does 'Fight Clubbed' characterize Mike Tyson’s abilities in the context of the UFC?\",\n",
    "    \"icl_response_1\": \"The article uses Mike Tyson, a legendary boxer known for his knockout power, to highlight the limitations of traditional boxing in the context of UFC. It argues that Tyson would barely last thirty seconds in a UFC fight, emphasizing the superior versatility and combat proficiency required in mixed martial arts compared to specialized boxing skills.\",\n",
    "    \"icl_query_2\": \"What role does San Pedro, California play in the article’s discussion of the UFC’s cultural trajectory?\",\n",
    "    \"icl_response_2\": \"San Pedro, California is presented as a symbolic location that captures the UFC’s retreat from mainstream popularity due to political and cultural pushback. Through underground events like Kage Kombat, it illustrates how the spirit of mixed martial arts persists in obscure, localized venues even after losing broader public visibility.\",\n",
    "    \"icl_query_3\": \"How are Mike Tyson and San Pedro, California used together to reflect broader themes in 'Fight Clubbed'?\",\n",
    "    \"icl_response_3\": \"Tyson and San Pedro serve as contrasting symbols in the article: Tyson represents the traditional, mainstream combat sports world, while San Pedro embodies the UFC’s marginalized yet resilient underground scene. Their juxtaposition conveys themes of adaptability in combat sports and highlights the cultural struggle between visibility and survival in evolving martial arts landscapes.\",\n",
    "}\n",
    "ds = ds.map(lambda x: icl)\n",
    "ds.to_json(\"/new_data/knowledge_rh/quality/base_datasets/entigraph_raw_dataset_percent_10.0_subset_uid_first_24.jsonl\", orient=\"records\", lines=True)"
   ]
  },
  {
   "cell_type": "markdown",
   "metadata": {},
   "source": [
    "```shell\n",
    "# Get dataset size and save into variable\n",
    "dataset_size=$(wc -l /new_data/knowledge_rh/quality/base_datasets/quality_seed_example_chunked.jsonl | awk '{print $1}')\n",
    "number_of_processes=8\n",
    "port=8000\n",
    "for i in {0..7}; do\n",
    "    dataset_start_index=$((i * dataset_size / number_of_processes))\n",
    "    dataset_end_index=$((dataset_start_index + dataset_size / number_of_processes))\n",
    "    python scripts/generate.py --ds_path  /new_data/knowledge_rh/quality/base_datasets/entigraph_knowledge_icl_10_percent.jsonl \\\n",
    "        --bs 2 --num_workers 30 \\\n",
    "        --save_path /new_data/knowledge_rh/quality/entigraph_knowledge1.0_phi4/gen.jsonl \\\n",
    "        --flow /home/lab/abhi/SDG-Research-Upstream/src/instructlab/sdg/flows/generation/knowledge/synth_knowledge_phi4.yaml \\\n",
    "        --endpoint http://localhost:$port/v1 \\\n",
    "        --checkpoint_dir /new_data/knowledge_rh/quality/entigraph_knowledge1.0_phi4/data_checkpoints \\\n",
    "        --save_freq 1000 \\\n",
    "        --dataset_start_index $dataset_start_index \\\n",
    "        --dataset_end_index $dataset_end_index > run_sdg_$i.log 2>&1 &\n",
    "    echo \"Starting process $i with dataset from $dataset_start_index to $dataset_end_index on port $port\"\n",
    "    port=$((port + 1))\n",
    "done\n",
    "```"
   ]
  },
  {
   "cell_type": "code",
   "execution_count": 1,
   "metadata": {},
   "outputs": [
    {
     "ename": "NameError",
     "evalue": "name 'load_dataset' is not defined",
     "output_type": "error",
     "traceback": [
      "\u001b[31m---------------------------------------------------------------------------\u001b[39m",
      "\u001b[31mNameError\u001b[39m                                 Traceback (most recent call last)",
      "\u001b[36mCell\u001b[39m\u001b[36m \u001b[39m\u001b[32mIn[1]\u001b[39m\u001b[32m, line 1\u001b[39m\n\u001b[32m----> \u001b[39m\u001b[32m1\u001b[39m enti_ds = \u001b[43mload_dataset\u001b[49m(\u001b[33m'\u001b[39m\u001b[33mjson\u001b[39m\u001b[33m'\u001b[39m, data_dir=\u001b[33m\"\u001b[39m\u001b[33m/new_data/knowledge_rh/quality/entigraph_knowledge1.0_phi4_first_24_n_5/gen/\u001b[39m\u001b[33m\"\u001b[39m, split=\u001b[33m\"\u001b[39m\u001b[33mtrain\u001b[39m\u001b[33m\"\u001b[39m)\n\u001b[32m      2\u001b[39m enti_ds = enti_ds.filter(\u001b[38;5;28;01mlambda\u001b[39;00m x: x[\u001b[33m'\u001b[39m\u001b[33mscore\u001b[39m\u001b[33m'\u001b[39m] == \u001b[33m'\u001b[39m\u001b[33m2\u001b[39m\u001b[33m'\u001b[39m \u001b[38;5;129;01mand\u001b[39;00m x[\u001b[33m'\u001b[39m\u001b[33mjudgment\u001b[39m\u001b[33m'\u001b[39m] == \u001b[33m'\u001b[39m\u001b[33mYES\u001b[39m\u001b[33m'\u001b[39m)\n\u001b[32m      3\u001b[39m enti_ds.to_json(\u001b[33m\"\u001b[39m\u001b[33m/new_data/knowledge_rh/quality/entigraph_knowledge1.0_phi4_first_26/gen.jsonl\u001b[39m\u001b[33m\"\u001b[39m, orient=\u001b[33m\"\u001b[39m\u001b[33mrecords\u001b[39m\u001b[33m\"\u001b[39m, lines=\u001b[38;5;28;01mTrue\u001b[39;00m)\n",
      "\u001b[31mNameError\u001b[39m: name 'load_dataset' is not defined"
     ]
    }
   ],
   "source": [
    "enti_ds = load_dataset('json', data_dir=\"/new_data/knowledge_rh/quality/entigraph_knowledge1.0_phi4_first_24_n_5/gen/\", split=\"train\")\n",
    "enti_ds = enti_ds.filter(lambda x: x['score'] == '2' and x['judgment'] == 'YES')\n",
    "enti_ds.to_json(\"/new_data/knowledge_rh/quality/entigraph_knowledge1.0_phi4_first_26/gen.jsonl\", orient=\"records\", lines=True)"
   ]
  },
  {
   "cell_type": "code",
   "execution_count": 36,
   "metadata": {},
   "outputs": [],
   "source": [
    "from instructlab.sdg.flow import  Flow\n",
    "from instructlab.sdg.logger_config import setup_logger\n",
    "from instructlab.sdg.pipeline import Pipeline\n",
    "from instructlab.sdg.sdg import SDG\n",
    "from openai import OpenAI\n",
    "\n",
    "openai_api_key = \"EMPTY\"\n",
    "openai_api_base = \"http://localhost:8000/v1\"\n",
    "\n",
    "client = OpenAI(\n",
    "        api_key=openai_api_key,\n",
    "        base_url=openai_api_base,\n",
    "    )\n",
    "flow_cfg = Flow(client).get_flow_from_file(\"/home/lab/abhi/SDG-Research-Upstream/src/instructlab/sdg/flows/generation/knowledge/knowledge_filtering_phi4.yaml\")\n",
    "sdg = SDG(\n",
    "        [Pipeline(flow_cfg)],\n",
    "        num_workers=1,\n",
    "        batch_size=1,\n",
    "        save_freq=1000,\n",
    "    )\n",
    "    "
   ]
  },
  {
   "cell_type": "code",
   "execution_count": null,
   "metadata": {},
   "outputs": [],
   "source": [
    "generated_data = sdg.generate(enti_ds.select(range(20)), checkpoint_dir=\"tmp\")"
   ]
  },
  {
   "cell_type": "code",
   "execution_count": null,
   "metadata": {},
   "outputs": [],
   "source": []
  }
 ],
 "metadata": {
  "kernelspec": {
   "display_name": "upstream_sdg",
   "language": "python",
   "name": "python3"
  },
  "language_info": {
   "codemirror_mode": {
    "name": "ipython",
    "version": 3
   },
   "file_extension": ".py",
   "mimetype": "text/x-python",
   "name": "python",
   "nbconvert_exporter": "python",
   "pygments_lexer": "ipython3",
   "version": "3.11.11"
  }
 },
 "nbformat": 4,
 "nbformat_minor": 2
}
