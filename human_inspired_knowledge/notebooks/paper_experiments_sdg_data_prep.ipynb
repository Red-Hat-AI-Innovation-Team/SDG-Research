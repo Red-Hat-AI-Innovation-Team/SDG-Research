{
 "cells": [
  {
   "cell_type": "code",
   "execution_count": 2,
   "metadata": {},
   "outputs": [
    {
     "name": "stderr",
     "output_type": "stream",
     "text": [
      "/home/lab/.conda/envs/upstream_sdg/lib/python3.11/site-packages/tqdm/auto.py:21: TqdmWarning: IProgress not found. Please update jupyter and ipywidgets. See https://ipywidgets.readthedocs.io/en/stable/user_install.html\n",
      "  from .autonotebook import tqdm as notebook_tqdm\n"
     ]
    }
   ],
   "source": [
    "import pandas as pd\n",
    "from datasets import load_dataset\n",
    "import json"
   ]
  },
  {
   "cell_type": "code",
   "execution_count": 2,
   "metadata": {},
   "outputs": [],
   "source": [
    "fp = \"/new_data/wenlong_rh/wz-entigraph-data/data/dataset/raw/entigraph_raw_dataset.jsonl\"\n",
    "df = pd.read_json(fp, lines=True)\n",
    "fp = \"/new_data/wenlong_rh/wz-entigraph-data/data/dataset/subset-selected-dataset/entigraph_raw_dataset/entigraph_raw_dataset_percent_10.0_subset.jsonl\"\n",
    "df_10 = pd.read_json(fp, lines=True)\n",
    "df_10_uid = df_10.merge(\n",
    "    df[['text', 'uid']].drop_duplicates(subset=['text']), \n",
    "    on='text', \n",
    "    how='left'\n",
    ")\n",
    "with open(\"task_subset_24.json\", \"r\") as f:\n",
    "    selected_uid = json.load(f)\n",
    "df_10_uid_24 = df_10_uid[df_10_uid['uid'].isin(selected_uid)]\n",
    "df_10_uid.to_json(\"/new_data/wenlong_rh/wz-entigraph-data/data/dataset/subset-selected-dataset/entigraph_raw_dataset/entigraph_raw_dataset_percent_10.0_subset_uid.jsonl\", orient=\"records\", lines=True)\n",
    "df_10_uid_24.to_json(\"/new_data/wenlong_rh/wz-entigraph-data/data/dataset/subset-selected-dataset/entigraph_raw_dataset/entigraph_raw_dataset_percent_10.0_subset_uid_first_24.jsonl\", orient=\"records\", lines=True)"
   ]
  },
  {
   "cell_type": "markdown",
   "metadata": {},
   "source": [
    "### Format data for SDG QA generation"
   ]
  },
  {
   "cell_type": "code",
   "execution_count": 10,
   "metadata": {},
   "outputs": [
    {
     "name": "stderr",
     "output_type": "stream",
     "text": [
      "Map: 100%|██████████| 6750/6750 [00:00<00:00, 21246.27 examples/s]\n",
      "Creating json from Arrow format: 100%|██████████| 7/7 [00:00<00:00, 27.90ba/s]\n"
     ]
    },
    {
     "data": {
      "text/plain": [
       "51582941"
      ]
     },
     "execution_count": 10,
     "metadata": {},
     "output_type": "execute_result"
    }
   ],
   "source": [
    "ds = load_dataset('json', data_files=\"/new_data/wenlong_rh/wz-entigraph-data/data/dataset/subset-selected-dataset/entigraph_raw_dataset/entigraph_raw_dataset_percent_10.0_subset_uid_first_24.jsonl\", split=\"train\")\n",
    "ds = ds.add_column(\"route\", ['_A_']*len(ds))\n",
    "ds = ds.rename_columns({\"text\": \"document\", \"uid\": \"document_outline\"})\n",
    "icl = {\n",
    "    'icl_document': '### Discussion of \"Fight Clubbed\" in relation to Mike Tyson\\nThe article\\'s examination of the Ultimate Fighting Championship (UFC) landscape brings notable clashes into perspective, including the hypothetical scenario where a juggernaut of traditional boxing like Mike Tyson steps into the UFC\\'s unforgiving realm. Contrasted against the diversity of disciplines displayed in UFC, Tyson, a titan in the boxing ring with knockout power that is the stuff of legend, receives a provocative dismissal. The assertion states unequivocally that Tyson would scarcely last half a minute in an ultimate fighting match. Such a statement not only elevates the standing of UFC fighters as the epitome of versatile combat proficiency, but it also underscores Tyson\\'s specialized yet limited skill set, which may not be as effective in the no-holds-barred environment that UFC champions.\\n\\n### Discussion of \"Fight Clubbed\" in relation to San Pedro, California\\nThe piece on the violent contrasts of UFC and Hollywood\\'s portrayal of fighting ends with an indication of the subculture\\'s persistence, showcasing outliers like the Kage Kombat competitions taking place in San Pedro, California. This reference to San Pedro, a microcosm within the larger narrative, captures the UFC\\'s retreat from mainstream visibility following heavy political and cultural resistance that relegated it to more discreet locales. San Pedro becomes an unlikely haven for the continued, albeit overshadowed, tradition of mixed martial arts, where the fundamental spirit of UFC is kept alive away from the grandiose stages and bright lights.\\n\\n### Discussion of Interaction between Mike Tyson and San Pedro, California in context of \"Fight Clubbed\"\\nIn \"Fight Clubbed,\" Mike Tyson and San Pedro, California emerge as vivid symbols within the broader narrative of UFC\\'s contentious journey. Tyson, an embodiment of elite, mainstream boxing prowess, is used to starkly contrast the brutal effectiveness and diverse skill requirements of UFC fighting. Meanwhile, San Pedro embodies the UFC\\'s shift from a publicly celebrated spectacle to a niche pursuit echoing in the underground echoes of fisticuff folklore. Tyson\\'s hypothetical inadequacy within the UFC octagon implicitly suggests a broader theme of adaptability and evolution in combat sports, a theme mirrored by San Pedro\\'s role as an inconspicuous sanctuary for a suppressed yet persistent fighting community. While the article does not describe any direct interaction between Tyson and San Pedro, the juxtaposition of these two entities speaks volumes about the changing face of American martial arts and the cultural tug-of-war between visibility and existence in the penumbra of public consciousness.', \n",
    "    \"icl_query_1\": \"How does 'Fight Clubbed' characterize Mike Tyson’s abilities in the context of the UFC?\",\n",
    "    \"icl_response_1\": \"The article uses Mike Tyson, a legendary boxer known for his knockout power, to highlight the limitations of traditional boxing in the context of UFC. It argues that Tyson would barely last thirty seconds in a UFC fight, emphasizing the superior versatility and combat proficiency required in mixed martial arts compared to specialized boxing skills.\",\n",
    "    \"icl_query_2\": \"What role does San Pedro, California play in the article’s discussion of the UFC’s cultural trajectory?\",\n",
    "    \"icl_response_2\": \"San Pedro, California is presented as a symbolic location that captures the UFC’s retreat from mainstream popularity due to political and cultural pushback. Through underground events like Kage Kombat, it illustrates how the spirit of mixed martial arts persists in obscure, localized venues even after losing broader public visibility.\",\n",
    "    \"icl_query_3\": \"How are Mike Tyson and San Pedro, California used together to reflect broader themes in 'Fight Clubbed'?\",\n",
    "    \"icl_response_3\": \"Tyson and San Pedro serve as contrasting symbols in the article: Tyson represents the traditional, mainstream combat sports world, while San Pedro embodies the UFC’s marginalized yet resilient underground scene. Their juxtaposition conveys themes of adaptability in combat sports and highlights the cultural struggle between visibility and survival in evolving martial arts landscapes.\",\n",
    "}\n",
    "ds = ds.map(lambda x: icl)\n",
    "ds.to_json(\"/new_data/knowledge_rh/quality/base_datasets/entigraph_raw_dataset_percent_10.0_subset_uid_first_24.jsonl\", orient=\"records\", lines=True)"
   ]
  },
  {
   "cell_type": "markdown",
   "metadata": {},
   "source": [
    "### Shell commands to run SDG QA generation\n",
    "```shell\n",
    "# Get dataset size and save into variable\n",
    "dataset_size=$(wc -l /new_data/knowledge_rh/quality/base_datasets/quality_seed_example_chunked.jsonl | awk '{print $1}')\n",
    "number_of_processes=8\n",
    "port=8000\n",
    "for i in {0..7}; do\n",
    "    dataset_start_index=$((i * dataset_size / number_of_processes))\n",
    "    dataset_end_index=$((dataset_start_index + dataset_size / number_of_processes))\n",
    "    python scripts/generate.py --ds_path  /new_data/knowledge_rh/quality/base_datasets/entigraph_knowledge_icl_10_percent.jsonl \\\n",
    "        --bs 2 --num_workers 30 \\\n",
    "        --save_path /new_data/knowledge_rh/quality/entigraph_knowledge1.0_phi4/gen.jsonl \\\n",
    "        --flow /home/lab/abhi/SDG-Research-Upstream/src/instructlab/sdg/flows/generation/knowledge/synth_knowledge_phi4.yaml \\\n",
    "        --endpoint http://localhost:$port/v1 \\\n",
    "        --checkpoint_dir /new_data/knowledge_rh/quality/entigraph_knowledge1.0_phi4/data_checkpoints \\\n",
    "        --save_freq 1000 \\\n",
    "        --dataset_start_index $dataset_start_index \\\n",
    "        --dataset_end_index $dataset_end_index > run_sdg_$i.log 2>&1 &\n",
    "    echo \"Starting process $i with dataset from $dataset_start_index to $dataset_end_index on port $port\"\n",
    "    port=$((port + 1))\n",
    "done\n",
    "```"
   ]
  }
 ],
 "metadata": {
  "kernelspec": {
   "display_name": "upstream_sdg",
   "language": "python",
   "name": "python3"
  },
  "language_info": {
   "codemirror_mode": {
    "name": "ipython",
    "version": 3
   },
   "file_extension": ".py",
   "mimetype": "text/x-python",
   "name": "python",
   "nbconvert_exporter": "python",
   "pygments_lexer": "ipython3",
   "version": "3.11.11"
  }
 },
 "nbformat": 4,
 "nbformat_minor": 2
}
